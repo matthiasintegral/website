{
 "cells": [
  {
   "cell_type": "code",
   "execution_count": 1,
   "id": "0e8e2646",
   "metadata": {},
   "outputs": [],
   "source": [
    "import os\n",
    "from math_agent_v0 import MathExerciseAnalyzer"
   ]
  },
  {
   "cell_type": "code",
   "execution_count": 2,
   "id": "24d04552",
   "metadata": {},
   "outputs": [],
   "source": [
    "analyzer = MathExerciseAnalyzer(model_name=\"gpt-4o\", temperature=0.0)"
   ]
  },
  {
   "cell_type": "code",
   "execution_count": 3,
   "id": "d232ac9f",
   "metadata": {},
   "outputs": [],
   "source": [
    "import uuid\n",
    "thread_id = str(uuid.uuid4())\n",
    "\n",
    "# Initialize state with image paths\n",
    "initial_state = {\n",
    "    \"image_paths\": [\"/home/elbaz/Bureau/website/agent/images/exo_1/IMG_4698.jpg\", \"/home/elbaz/Bureau/website/agent/images/exo_1/IMG_4699.jpg\"],\n",
    "    \"base64_images\": [],\n",
    "    \"raw_analyses\": [],\n",
    "    \"structured_analyses\": [],\n",
    "    \"combined_analysis\": None,\n",
    "    \"exercise\": None,\n",
    "    \"error\": None,\n",
    "    \"current_image_index\": 0\n",
    "}\n",
    "\n",
    "# Create config with thread_id for the checkpointer\n",
    "config = {\"configurable\": {\"thread_id\": thread_id}}\n",
    "\n",
    "# Run the workflow\n",
    "result = analyzer.workflow.invoke(initial_state, config=config)"
   ]
  },
  {
   "cell_type": "code",
   "execution_count": null,
   "id": "21eb6909",
   "metadata": {},
   "outputs": [],
   "source": [
    "type(result)"
   ]
  },
  {
   "cell_type": "code",
   "execution_count": 4,
   "id": "6e4538a0",
   "metadata": {},
   "outputs": [
    {
     "data": {
      "text/plain": [
       "dict_keys(['image_paths', 'base64_images', 'raw_analyses', 'structured_analyses', 'combined_analysis', 'exercise', 'error', 'current_image_index'])"
      ]
     },
     "execution_count": 4,
     "metadata": {},
     "output_type": "execute_result"
    }
   ],
   "source": [
    "result.keys()"
   ]
  },
  {
   "cell_type": "code",
   "execution_count": 12,
   "id": "f6d200fb",
   "metadata": {},
   "outputs": [
    {
     "data": {
      "text/plain": [
       "\"The problem involves analyzing a function f that belongs to the class C^1(ℝ_+, ℝ_+). It is given that: f'(x)/f(x) ∼ 2/x. The task is to evaluate or analyze the integral: ∫_0^x f.\""
      ]
     },
     "execution_count": 12,
     "metadata": {},
     "output_type": "execute_result"
    }
   ],
   "source": [
    "result[\"exercise\"].statement"
   ]
  },
  {
   "cell_type": "code",
   "execution_count": null,
   "id": "8da4da83",
   "metadata": {},
   "outputs": [],
   "source": [
    "current_index = result[\"current_image_index\"]\n",
    "base64_image = result[\"base64_images\"][current_index]\n",
    "        \n",
    "system_prompt = \"\"\"You are an expert mathematical exercise analyzer. Analyze the handwritten mathematical exercise and extract:\n",
    "\n",
    "    1. **Statement**: The mathematical problem or question being asked\n",
    "    2. **Response**: The handwritten solution or answer provided  \n",
    "    3. **Domain**: The mathematical domain (Algebra, Calculus, Geometry, Trigonometry, Statistics, etc.)\n",
    "    4. **Level**: The difficulty level (Elementary, Middle School, High School, College, Advanced)\n",
    "\n",
    "    Guidelines:\n",
    "    - Be precise in extracting mathematical expressions and symbols\n",
    "    - Identify mathematical notation correctly (fractions, exponents, integrals, etc.)\n",
    "    - Determine the appropriate mathematical domain based on the content\n",
    "    - Assess difficulty level based on mathematical concepts used\n",
    "    - Provide confidence scores for your analysis\n",
    "    - Handle both text and mathematical notation in the handwritten content\n",
    "    - If this appears to be a continuation from a previous page, note that in your analysis\n",
    "    - If this is a new problem, treat it as such\n",
    "\n",
    "    Return your analysis in a clear, structured format.\"\"\"\n",
    "\n",
    "from langchain_core.messages import HumanMessage, SystemMessage\n",
    "\n",
    "\n",
    "message = HumanMessage(\n",
    "    content=[\n",
    "        {\n",
    "            \"type\": \"text\",\n",
    "            \"text\": f\"Please analyze this handwritten mathematical exercise (page {current_index + 1} of {len(result['base64_images'])}). Extract the statement, response, domain, and level.\"\n",
    "        },\n",
    "        {\n",
    "            \"type\": \"image_url\",\n",
    "            \"image_url\": {\n",
    "                \"url\": f\"data:image/jpeg;base64,{base64_image}\"\n",
    "            }\n",
    "        }\n",
    "    ]\n",
    ")\n",
    "\n",
    "response = analyzer.llm.invoke([SystemMessage(content=system_prompt), message])"
   ]
  },
  {
   "cell_type": "code",
   "execution_count": null,
   "id": "90c9646c",
   "metadata": {},
   "outputs": [],
   "source": [
    "current_index = result[\"current_image_index\"]\n",
    "raw_analysis = result[\"raw_analyses\"][current_index]\n",
    "\n",
    "structure_prompt = \"\"\"Extract the following information from the analysis and return it as JSON:\n",
    "\n",
    "{{\n",
    "    \"statement\": \"extracted problem statement\",\n",
    "    \"response\": \"extracted solution/answer\", \n",
    "    \"domain\": \"mathematical domain\",\n",
    "    \"level\": \"difficulty level\",\n",
    "    \"confidence_score\": score between 0 and 1,\n",
    "    \"is_continuation\": boolean indicating if this is a continuation from previous page\n",
    "}}\n",
    "\n",
    "Analysis text:\n",
    "{analysis}\"\"\"\n",
    "\n",
    "from langchain_core.prompts import ChatPromptTemplate\n",
    "from langchain_core.output_parsers import JsonOutputParser\n",
    "\n",
    "prompt = ChatPromptTemplate.from_template(structure_prompt)\n",
    "chain = prompt | analyzer.llm | JsonOutputParser()\n",
    "\n",
    "structured = chain.invoke({\"analysis\": raw_analysis})"
   ]
  },
  {
   "cell_type": "code",
   "execution_count": null,
   "id": "eb20ee6b",
   "metadata": {},
   "outputs": [],
   "source": [
    "structured"
   ]
  },
  {
   "cell_type": "code",
   "execution_count": null,
   "id": "6982bb9d",
   "metadata": {},
   "outputs": [],
   "source": []
  }
 ],
 "metadata": {
  "kernelspec": {
   "display_name": ".venv",
   "language": "python",
   "name": "python3"
  },
  "language_info": {
   "codemirror_mode": {
    "name": "ipython",
    "version": 3
   },
   "file_extension": ".py",
   "mimetype": "text/x-python",
   "name": "python",
   "nbconvert_exporter": "python",
   "pygments_lexer": "ipython3",
   "version": "3.13.5"
  }
 },
 "nbformat": 4,
 "nbformat_minor": 5
}
