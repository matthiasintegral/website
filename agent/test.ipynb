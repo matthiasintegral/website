{
 "cells": [
  {
   "cell_type": "code",
   "execution_count": 1,
   "id": "0e8e2646",
   "metadata": {},
   "outputs": [],
   "source": [
    "import os\n",
    "from math_agent_v0 import MathExerciseAnalyzer"
   ]
  },
  {
   "cell_type": "code",
   "execution_count": 2,
   "id": "24d04552",
   "metadata": {},
   "outputs": [],
   "source": [
    "analyzer = MathExerciseAnalyzer(model_name=\"gpt-4o\", temperature=0.0)"
   ]
  },
  {
   "cell_type": "code",
   "execution_count": 3,
   "id": "d232ac9f",
   "metadata": {},
   "outputs": [],
   "source": [
    "import uuid\n",
    "thread_id = str(uuid.uuid4())\n",
    "\n",
    "# Initialize state with image paths\n",
    "initial_state = {\n",
    "    \"image_paths\": [\"/home/elbaz/Bureau/website/agent/images/exo_1/IMG_4698.jpg\"],\n",
    "    \"base64_images\": [],\n",
    "    \"raw_analyses\": [],\n",
    "    \"structured_analyses\": [],\n",
    "    \"combined_analysis\": None,\n",
    "    \"exercise\": None,\n",
    "    \"error\": None,\n",
    "    \"current_image_index\": 0\n",
    "}\n",
    "\n",
    "# Create config with thread_id for the checkpointer\n",
    "config = {\"configurable\": {\"thread_id\": thread_id}}\n",
    "\n",
    "# Run the workflow\n",
    "result = analyzer.workflow.invoke(initial_state, config=config)"
   ]
  },
  {
   "cell_type": "code",
   "execution_count": 4,
   "id": "21eb6909",
   "metadata": {},
   "outputs": [
    {
     "data": {
      "text/plain": [
       "dict"
      ]
     },
     "execution_count": 4,
     "metadata": {},
     "output_type": "execute_result"
    }
   ],
   "source": [
    "type(result)"
   ]
  },
  {
   "cell_type": "code",
   "execution_count": 5,
   "id": "6e4538a0",
   "metadata": {},
   "outputs": [
    {
     "data": {
      "text/plain": [
       "dict_keys(['image_paths', 'base64_images', 'raw_analyses', 'structured_analyses', 'combined_analysis', 'exercise', 'error', 'current_image_index'])"
      ]
     },
     "execution_count": 5,
     "metadata": {},
     "output_type": "execute_result"
    }
   ],
   "source": [
    "result.keys()"
   ]
  },
  {
   "cell_type": "code",
   "execution_count": null,
   "id": "f6d200fb",
   "metadata": {},
   "outputs": [
    {
     "data": {
      "text/plain": [
       "[\"**Statement**: The problem involves analyzing a function \\\\( f \\\\) that belongs to the class \\\\( C^1(\\\\mathbb{R}_+, \\\\mathbb{R}_+) \\\\). It is given that:\\n\\n\\\\[\\n\\\\frac{f'(x)}{f(x)} \\\\sim \\\\frac{2}{x}\\n\\\\]\\n\\nThe task is to evaluate or prove the integral relationship:\\n\\n\\\\[\\n\\\\int_0^x f(t) \\\\, dt \\\\sim \\\\frac{x f(x)}{3}\\n\\\\]\\n\\n**Response**: The handwritten solution involves the following steps:\\n\\n1. The integral \\\\(\\\\int_0^x f(t) \\\\, dt\\\\) is expressed using integration by parts:\\n\\n   \\\\[\\n   \\\\int_0^x f(t) \\\\, dt = \\\\left[ t f(t) \\\\right]_0^x - \\\\int_0^x t f'(t) \\\\, dt\\n   \\\\]\\n\\n2. This simplifies to:\\n\\n   \\\\[\\n   = x f(x) - \\\\int_0^x t f'(t) \\\\, dt\\n   \\\\]\\n\\n3. Further manipulation leads to:\\n\\n   \\\\[\\n   = x f(x) - \\\\int_0^x t \\\\cdot \\\\frac{2}{t} f(t) \\\\, dt\\n   \\\\]\\n\\n4. Resulting in:\\n\\n   \\\\[\\n   = x f(x) - 2 \\\\int_0^x f(t) \\\\, dt\\n   \\\\]\\n\\n5. The conclusion is:\\n\\n   \\\\[\\n   3 \\\\int_0^x f(t) \\\\, dt = x f(x)\\n   \\\\]\\n\\n   Therefore:\\n\\n   \\\\[\\n   \\\\int_0^x f(t) \\\\, dt \\\\sim \\\\frac{x f(x)}{3}\\n   \\\\]\\n\\n**Domain**: Calculus (specifically, integration and asymptotic analysis)\\n\\n**Level**: College\\n\\n**Confidence Scores**:\\n- Statement Extraction: 95%\\n- Response Interpretation: 90%\\n- Domain Identification: 100%\\n- Level Assessment: 95%\"]"
      ]
     },
     "execution_count": 6,
     "metadata": {},
     "output_type": "execute_result"
    }
   ],
   "source": [
    "result[\"structured_analyses\"]"
   ]
  },
  {
   "cell_type": "code",
   "execution_count": null,
   "id": "8da4da83",
   "metadata": {},
   "outputs": [],
   "source": [
    "current_index = result[\"current_image_index\"]\n",
    "base64_image = result[\"base64_images\"][current_index]\n",
    "        \n",
    "system_prompt = \"\"\"You are an expert mathematical exercise analyzer. Analyze the handwritten mathematical exercise and extract:\n",
    "\n",
    "    1. **Statement**: The mathematical problem or question being asked\n",
    "    2. **Response**: The handwritten solution or answer provided  \n",
    "    3. **Domain**: The mathematical domain (Algebra, Calculus, Geometry, Trigonometry, Statistics, etc.)\n",
    "    4. **Level**: The difficulty level (Elementary, Middle School, High School, College, Advanced)\n",
    "\n",
    "    Guidelines:\n",
    "    - Be precise in extracting mathematical expressions and symbols\n",
    "    - Identify mathematical notation correctly (fractions, exponents, integrals, etc.)\n",
    "    - Determine the appropriate mathematical domain based on the content\n",
    "    - Assess difficulty level based on mathematical concepts used\n",
    "    - Provide confidence scores for your analysis\n",
    "    - Handle both text and mathematical notation in the handwritten content\n",
    "    - If this appears to be a continuation from a previous page, note that in your analysis\n",
    "    - If this is a new problem, treat it as such\n",
    "\n",
    "    Return your analysis in a clear, structured format.\"\"\"\n",
    "\n",
    "from langchain_core.messages import HumanMessage, SystemMessage\n",
    "\n",
    "\n",
    "message = HumanMessage(\n",
    "    content=[\n",
    "        {\n",
    "            \"type\": \"text\",\n",
    "            \"text\": f\"Please analyze this handwritten mathematical exercise (page {current_index + 1} of {len(result['base64_images'])}). Extract the statement, response, domain, and level.\"\n",
    "        },\n",
    "        {\n",
    "            \"type\": \"image_url\",\n",
    "            \"image_url\": {\n",
    "                \"url\": f\"data:image/jpeg;base64,{base64_image}\"\n",
    "            }\n",
    "        }\n",
    "    ]\n",
    ")\n",
    "\n",
    "response = analyzer.llm.invoke([SystemMessage(content=system_prompt), message])"
   ]
  },
  {
   "cell_type": "code",
   "execution_count": null,
   "id": "90c9646c",
   "metadata": {},
   "outputs": [],
   "source": [
    "print(response.content)"
   ]
  }
 ],
 "metadata": {
  "kernelspec": {
   "display_name": ".venv",
   "language": "python",
   "name": "python3"
  },
  "language_info": {
   "codemirror_mode": {
    "name": "ipython",
    "version": 3
   },
   "file_extension": ".py",
   "mimetype": "text/x-python",
   "name": "python",
   "nbconvert_exporter": "python",
   "pygments_lexer": "ipython3",
   "version": "3.13.5"
  }
 },
 "nbformat": 4,
 "nbformat_minor": 5
}
