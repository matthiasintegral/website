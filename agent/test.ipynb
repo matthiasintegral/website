{
 "cells": [
  {
   "cell_type": "code",
   "execution_count": 1,
   "id": "0e8e2646",
   "metadata": {},
   "outputs": [],
   "source": [
    "import os\n",
    "from math_agent_v0 import MathExerciseAnalyzer"
   ]
  },
  {
   "cell_type": "code",
   "execution_count": 2,
   "id": "24d04552",
   "metadata": {},
   "outputs": [],
   "source": [
    "analyzer = MathExerciseAnalyzer(model_name=\"gpt-4o\", temperature=0.0)"
   ]
  },
  {
   "cell_type": "code",
   "execution_count": 3,
   "id": "d232ac9f",
   "metadata": {},
   "outputs": [],
   "source": [
    "import uuid\n",
    "thread_id = str(uuid.uuid4())\n",
    "\n",
    "# Initialize state with image paths\n",
    "initial_state = {\n",
    "    \"image_paths\": [\"/home/elbaz/Bureau/website/agent/images/exo_1/IMG_4698.jpg\", \"/home/elbaz/Bureau/website/agent/images/exo_1/IMG_4699.jpg\"],\n",
    "    \"base64_images\": [],\n",
    "    \"raw_analyses\": [],\n",
    "    \"structured_analyses\": [],\n",
    "    \"combined_analysis\": None,\n",
    "    \"exercise\": None,\n",
    "    \"error\": None,\n",
    "    \"current_image_index\": 0\n",
    "}\n",
    "\n",
    "# Create config with thread_id for the checkpointer\n",
    "config = {\"configurable\": {\"thread_id\": thread_id}}\n",
    "\n",
    "# Run the workflow\n",
    "result = analyzer.workflow.invoke(initial_state, config=config)"
   ]
  },
  {
   "cell_type": "code",
   "execution_count": 6,
   "id": "f6d200fb",
   "metadata": {},
   "outputs": [
    {
     "data": {
      "text/plain": [
       "MathExercise(title='Integration Relation and Comparison', statement=\"Let \\\\( f \\\\in C^1(\\\\mathbb{R}_+, \\\\mathbb{R}_+^*) \\\\) by: \\\\[ \\\\frac{f'(x)}{f(x)} \\\\sim \\\\frac{2}{x}, \\\\quad \\\\text{and} \\\\quad \\\\int_0^x f \\\\sim \\\\frac{x f(x)}{3} \\\\]\", response=\"\\\\[ \\\\int_0^x f \\\\, dt = \\\\left[ s f \\\\right]_0^x - \\\\int_0^x s f' \\\\, ds \\\\] \\\\[ = x f(x) - \\\\int_0^x t f'(t) \\\\, dt \\\\] \\\\[ = x f(x) - \\\\int_0^x t \\\\frac{f'(t)}{f(t)} f(t) \\\\, dt \\\\] \\\\[ = x f(x) - \\\\int_0^x t \\\\frac{2}{t} f(t) \\\\, dt \\\\] \\\\[ = x f(x) - 2 \\\\int_0^x f(t) \\\\, dt \\\\]\", domain='Calculus', level='College', confidence_score=0.9, image_paths=['/home/elbaz/Bureau/website/agent/images/exo_1/IMG_4698.jpg', '/home/elbaz/Bureau/website/agent/images/exo_1/IMG_4699.jpg'])"
      ]
     },
     "execution_count": 6,
     "metadata": {},
     "output_type": "execute_result"
    }
   ],
   "source": [
    "result[\"exercise\"]"
   ]
  },
  {
   "cell_type": "code",
   "execution_count": null,
   "id": "59caae7b",
   "metadata": {},
   "outputs": [],
   "source": []
  }
 ],
 "metadata": {
  "kernelspec": {
   "display_name": ".venv",
   "language": "python",
   "name": "python3"
  },
  "language_info": {
   "codemirror_mode": {
    "name": "ipython",
    "version": 3
   },
   "file_extension": ".py",
   "mimetype": "text/x-python",
   "name": "python",
   "nbconvert_exporter": "python",
   "pygments_lexer": "ipython3",
   "version": "3.13.5"
  }
 },
 "nbformat": 4,
 "nbformat_minor": 5
}
